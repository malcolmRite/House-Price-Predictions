{
 "cells": [
  {
   "cell_type": "markdown",
   "metadata": {},
   "source": [
    "Housing Prices Worksheet\n",
    "\n",
    "Predicts Housing Prices Using Housing Prices."
   ]
  },
  {
   "cell_type": "code",
   "execution_count": 1,
   "metadata": {},
   "outputs": [],
   "source": [
    "import numpy as np\n",
    "import pandas as pd\n",
    "\n",
    "from scipy import stats\n",
    "import statsmodels.api as sm \n",
    "import matplotlib.pyplot as plt\n",
    "\n",
    "from sklearn.metrics import mean_absolute_error\n",
    "from sklearn.tree import DecisionTreeRegressor\n",
    "\n",
    "from sklearn.model_selection import train_test_split\n",
    "from sklearn.impute import SimpleImputer"
   ]
  },
  {
   "cell_type": "markdown",
   "metadata": {},
   "source": [
    "Importing the Datasets"
   ]
  },
  {
   "cell_type": "code",
   "execution_count": 2,
   "metadata": {},
   "outputs": [],
   "source": [
    "train_set = pd.read_csv(r\"C:\\Users\\Malcolm Wright\\Desktop\\Housing Prices\\Housing Price\\train.csv\")\n",
    "test_set = pd.read_csv(r\"C:\\Users\\Malcolm Wright\\Desktop\\Housing Prices\\Housing Price\\test.csv\")\n"
   ]
  },
  {
   "cell_type": "markdown",
   "metadata": {},
   "source": [
    "Display Training Datasets"
   ]
  },
  {
   "cell_type": "code",
   "execution_count": 3,
   "metadata": {},
   "outputs": [
    {
     "data": {
      "text/html": [
       "<div>\n",
       "<style scoped>\n",
       "    .dataframe tbody tr th:only-of-type {\n",
       "        vertical-align: middle;\n",
       "    }\n",
       "\n",
       "    .dataframe tbody tr th {\n",
       "        vertical-align: top;\n",
       "    }\n",
       "\n",
       "    .dataframe thead th {\n",
       "        text-align: right;\n",
       "    }\n",
       "</style>\n",
       "<table border=\"1\" class=\"dataframe\">\n",
       "  <thead>\n",
       "    <tr style=\"text-align: right;\">\n",
       "      <th></th>\n",
       "      <th>Id</th>\n",
       "      <th>MSSubClass</th>\n",
       "      <th>LotFrontage</th>\n",
       "      <th>LotArea</th>\n",
       "      <th>OverallQual</th>\n",
       "      <th>OverallCond</th>\n",
       "      <th>YearBuilt</th>\n",
       "      <th>YearRemodAdd</th>\n",
       "      <th>MasVnrArea</th>\n",
       "      <th>BsmtFinSF1</th>\n",
       "      <th>...</th>\n",
       "      <th>WoodDeckSF</th>\n",
       "      <th>OpenPorchSF</th>\n",
       "      <th>EnclosedPorch</th>\n",
       "      <th>3SsnPorch</th>\n",
       "      <th>ScreenPorch</th>\n",
       "      <th>PoolArea</th>\n",
       "      <th>MiscVal</th>\n",
       "      <th>MoSold</th>\n",
       "      <th>YrSold</th>\n",
       "      <th>SalePrice</th>\n",
       "    </tr>\n",
       "  </thead>\n",
       "  <tbody>\n",
       "    <tr>\n",
       "      <th>count</th>\n",
       "      <td>1460.000000</td>\n",
       "      <td>1460.000000</td>\n",
       "      <td>1201.000000</td>\n",
       "      <td>1460.000000</td>\n",
       "      <td>1460.000000</td>\n",
       "      <td>1460.000000</td>\n",
       "      <td>1460.000000</td>\n",
       "      <td>1460.000000</td>\n",
       "      <td>1452.000000</td>\n",
       "      <td>1460.000000</td>\n",
       "      <td>...</td>\n",
       "      <td>1460.000000</td>\n",
       "      <td>1460.000000</td>\n",
       "      <td>1460.000000</td>\n",
       "      <td>1460.000000</td>\n",
       "      <td>1460.000000</td>\n",
       "      <td>1460.000000</td>\n",
       "      <td>1460.000000</td>\n",
       "      <td>1460.000000</td>\n",
       "      <td>1460.000000</td>\n",
       "      <td>1460.000000</td>\n",
       "    </tr>\n",
       "    <tr>\n",
       "      <th>mean</th>\n",
       "      <td>730.500000</td>\n",
       "      <td>56.897260</td>\n",
       "      <td>70.049958</td>\n",
       "      <td>10516.828082</td>\n",
       "      <td>6.099315</td>\n",
       "      <td>5.575342</td>\n",
       "      <td>1971.267808</td>\n",
       "      <td>1984.865753</td>\n",
       "      <td>103.685262</td>\n",
       "      <td>443.639726</td>\n",
       "      <td>...</td>\n",
       "      <td>94.244521</td>\n",
       "      <td>46.660274</td>\n",
       "      <td>21.954110</td>\n",
       "      <td>3.409589</td>\n",
       "      <td>15.060959</td>\n",
       "      <td>2.758904</td>\n",
       "      <td>43.489041</td>\n",
       "      <td>6.321918</td>\n",
       "      <td>2007.815753</td>\n",
       "      <td>180921.195890</td>\n",
       "    </tr>\n",
       "    <tr>\n",
       "      <th>std</th>\n",
       "      <td>421.610009</td>\n",
       "      <td>42.300571</td>\n",
       "      <td>24.284752</td>\n",
       "      <td>9981.264932</td>\n",
       "      <td>1.382997</td>\n",
       "      <td>1.112799</td>\n",
       "      <td>30.202904</td>\n",
       "      <td>20.645407</td>\n",
       "      <td>181.066207</td>\n",
       "      <td>456.098091</td>\n",
       "      <td>...</td>\n",
       "      <td>125.338794</td>\n",
       "      <td>66.256028</td>\n",
       "      <td>61.119149</td>\n",
       "      <td>29.317331</td>\n",
       "      <td>55.757415</td>\n",
       "      <td>40.177307</td>\n",
       "      <td>496.123024</td>\n",
       "      <td>2.703626</td>\n",
       "      <td>1.328095</td>\n",
       "      <td>79442.502883</td>\n",
       "    </tr>\n",
       "    <tr>\n",
       "      <th>min</th>\n",
       "      <td>1.000000</td>\n",
       "      <td>20.000000</td>\n",
       "      <td>21.000000</td>\n",
       "      <td>1300.000000</td>\n",
       "      <td>1.000000</td>\n",
       "      <td>1.000000</td>\n",
       "      <td>1872.000000</td>\n",
       "      <td>1950.000000</td>\n",
       "      <td>0.000000</td>\n",
       "      <td>0.000000</td>\n",
       "      <td>...</td>\n",
       "      <td>0.000000</td>\n",
       "      <td>0.000000</td>\n",
       "      <td>0.000000</td>\n",
       "      <td>0.000000</td>\n",
       "      <td>0.000000</td>\n",
       "      <td>0.000000</td>\n",
       "      <td>0.000000</td>\n",
       "      <td>1.000000</td>\n",
       "      <td>2006.000000</td>\n",
       "      <td>34900.000000</td>\n",
       "    </tr>\n",
       "    <tr>\n",
       "      <th>25%</th>\n",
       "      <td>365.750000</td>\n",
       "      <td>20.000000</td>\n",
       "      <td>59.000000</td>\n",
       "      <td>7553.500000</td>\n",
       "      <td>5.000000</td>\n",
       "      <td>5.000000</td>\n",
       "      <td>1954.000000</td>\n",
       "      <td>1967.000000</td>\n",
       "      <td>0.000000</td>\n",
       "      <td>0.000000</td>\n",
       "      <td>...</td>\n",
       "      <td>0.000000</td>\n",
       "      <td>0.000000</td>\n",
       "      <td>0.000000</td>\n",
       "      <td>0.000000</td>\n",
       "      <td>0.000000</td>\n",
       "      <td>0.000000</td>\n",
       "      <td>0.000000</td>\n",
       "      <td>5.000000</td>\n",
       "      <td>2007.000000</td>\n",
       "      <td>129975.000000</td>\n",
       "    </tr>\n",
       "    <tr>\n",
       "      <th>50%</th>\n",
       "      <td>730.500000</td>\n",
       "      <td>50.000000</td>\n",
       "      <td>69.000000</td>\n",
       "      <td>9478.500000</td>\n",
       "      <td>6.000000</td>\n",
       "      <td>5.000000</td>\n",
       "      <td>1973.000000</td>\n",
       "      <td>1994.000000</td>\n",
       "      <td>0.000000</td>\n",
       "      <td>383.500000</td>\n",
       "      <td>...</td>\n",
       "      <td>0.000000</td>\n",
       "      <td>25.000000</td>\n",
       "      <td>0.000000</td>\n",
       "      <td>0.000000</td>\n",
       "      <td>0.000000</td>\n",
       "      <td>0.000000</td>\n",
       "      <td>0.000000</td>\n",
       "      <td>6.000000</td>\n",
       "      <td>2008.000000</td>\n",
       "      <td>163000.000000</td>\n",
       "    </tr>\n",
       "    <tr>\n",
       "      <th>75%</th>\n",
       "      <td>1095.250000</td>\n",
       "      <td>70.000000</td>\n",
       "      <td>80.000000</td>\n",
       "      <td>11601.500000</td>\n",
       "      <td>7.000000</td>\n",
       "      <td>6.000000</td>\n",
       "      <td>2000.000000</td>\n",
       "      <td>2004.000000</td>\n",
       "      <td>166.000000</td>\n",
       "      <td>712.250000</td>\n",
       "      <td>...</td>\n",
       "      <td>168.000000</td>\n",
       "      <td>68.000000</td>\n",
       "      <td>0.000000</td>\n",
       "      <td>0.000000</td>\n",
       "      <td>0.000000</td>\n",
       "      <td>0.000000</td>\n",
       "      <td>0.000000</td>\n",
       "      <td>8.000000</td>\n",
       "      <td>2009.000000</td>\n",
       "      <td>214000.000000</td>\n",
       "    </tr>\n",
       "    <tr>\n",
       "      <th>max</th>\n",
       "      <td>1460.000000</td>\n",
       "      <td>190.000000</td>\n",
       "      <td>313.000000</td>\n",
       "      <td>215245.000000</td>\n",
       "      <td>10.000000</td>\n",
       "      <td>9.000000</td>\n",
       "      <td>2010.000000</td>\n",
       "      <td>2010.000000</td>\n",
       "      <td>1600.000000</td>\n",
       "      <td>5644.000000</td>\n",
       "      <td>...</td>\n",
       "      <td>857.000000</td>\n",
       "      <td>547.000000</td>\n",
       "      <td>552.000000</td>\n",
       "      <td>508.000000</td>\n",
       "      <td>480.000000</td>\n",
       "      <td>738.000000</td>\n",
       "      <td>15500.000000</td>\n",
       "      <td>12.000000</td>\n",
       "      <td>2010.000000</td>\n",
       "      <td>755000.000000</td>\n",
       "    </tr>\n",
       "  </tbody>\n",
       "</table>\n",
       "<p>8 rows × 38 columns</p>\n",
       "</div>"
      ],
      "text/plain": [
       "                Id   MSSubClass  LotFrontage        LotArea  OverallQual  \\\n",
       "count  1460.000000  1460.000000  1201.000000    1460.000000  1460.000000   \n",
       "mean    730.500000    56.897260    70.049958   10516.828082     6.099315   \n",
       "std     421.610009    42.300571    24.284752    9981.264932     1.382997   \n",
       "min       1.000000    20.000000    21.000000    1300.000000     1.000000   \n",
       "25%     365.750000    20.000000    59.000000    7553.500000     5.000000   \n",
       "50%     730.500000    50.000000    69.000000    9478.500000     6.000000   \n",
       "75%    1095.250000    70.000000    80.000000   11601.500000     7.000000   \n",
       "max    1460.000000   190.000000   313.000000  215245.000000    10.000000   \n",
       "\n",
       "       OverallCond    YearBuilt  YearRemodAdd   MasVnrArea   BsmtFinSF1  ...  \\\n",
       "count  1460.000000  1460.000000   1460.000000  1452.000000  1460.000000  ...   \n",
       "mean      5.575342  1971.267808   1984.865753   103.685262   443.639726  ...   \n",
       "std       1.112799    30.202904     20.645407   181.066207   456.098091  ...   \n",
       "min       1.000000  1872.000000   1950.000000     0.000000     0.000000  ...   \n",
       "25%       5.000000  1954.000000   1967.000000     0.000000     0.000000  ...   \n",
       "50%       5.000000  1973.000000   1994.000000     0.000000   383.500000  ...   \n",
       "75%       6.000000  2000.000000   2004.000000   166.000000   712.250000  ...   \n",
       "max       9.000000  2010.000000   2010.000000  1600.000000  5644.000000  ...   \n",
       "\n",
       "        WoodDeckSF  OpenPorchSF  EnclosedPorch    3SsnPorch  ScreenPorch  \\\n",
       "count  1460.000000  1460.000000    1460.000000  1460.000000  1460.000000   \n",
       "mean     94.244521    46.660274      21.954110     3.409589    15.060959   \n",
       "std     125.338794    66.256028      61.119149    29.317331    55.757415   \n",
       "min       0.000000     0.000000       0.000000     0.000000     0.000000   \n",
       "25%       0.000000     0.000000       0.000000     0.000000     0.000000   \n",
       "50%       0.000000    25.000000       0.000000     0.000000     0.000000   \n",
       "75%     168.000000    68.000000       0.000000     0.000000     0.000000   \n",
       "max     857.000000   547.000000     552.000000   508.000000   480.000000   \n",
       "\n",
       "          PoolArea       MiscVal       MoSold       YrSold      SalePrice  \n",
       "count  1460.000000   1460.000000  1460.000000  1460.000000    1460.000000  \n",
       "mean      2.758904     43.489041     6.321918  2007.815753  180921.195890  \n",
       "std      40.177307    496.123024     2.703626     1.328095   79442.502883  \n",
       "min       0.000000      0.000000     1.000000  2006.000000   34900.000000  \n",
       "25%       0.000000      0.000000     5.000000  2007.000000  129975.000000  \n",
       "50%       0.000000      0.000000     6.000000  2008.000000  163000.000000  \n",
       "75%       0.000000      0.000000     8.000000  2009.000000  214000.000000  \n",
       "max     738.000000  15500.000000    12.000000  2010.000000  755000.000000  \n",
       "\n",
       "[8 rows x 38 columns]"
      ]
     },
     "execution_count": 3,
     "metadata": {},
     "output_type": "execute_result"
    }
   ],
   "source": [
    "train_set.describe()"
   ]
  },
  {
   "cell_type": "markdown",
   "metadata": {},
   "source": [
    "Replace Missing Values"
   ]
  },
  {
   "cell_type": "code",
   "execution_count": 4,
   "metadata": {},
   "outputs": [],
   "source": [
    "features = ['LotArea', \"LotFrontage\", 'OverallQual', 'BedroomAbvGr', 'TotRmsAbvGrd', 'GarageArea', \"YearBuilt\", 'MSSubClass', \"WoodDeckSF\", \"GrLivArea\", \"TotalBsmtSF\", \"YearRemodAdd\", \"OverallCond\"]\n",
    "# Fill in the lines below: imputation\n",
    "my_imputer = SimpleImputer()# Your code here\n",
    "\n",
    "train_set = train_set.fillna(0)\n",
    "\n",
    "imputed_X_train = pd.DataFrame(my_imputer.fit_transform(train_set[features]))\n",
    "imputed_X_valid = pd.DataFrame(my_imputer.transform(test_set[features]))\n",
    "\n",
    "# Fill in the lines below: imputation removed column names; put them back\n",
    "\n",
    "imputed_X_valid.columns = test_set[features].columns\n",
    "train_set.columns = train_set.columns\n",
    "\n"
   ]
  },
  {
   "cell_type": "markdown",
   "metadata": {},
   "source": [
    "Defining Functions"
   ]
  },
  {
   "cell_type": "code",
   "execution_count": 5,
   "metadata": {},
   "outputs": [],
   "source": [
    "def tooLarge(lotArea, amount):\n",
    "    tooLarge = []\n",
    "    tooLarge_ID = []\n",
    "    i = 0\n",
    "    for i in range(len(lotArea)):\n",
    "        try:\n",
    "            if lotArea[i] > amount:\n",
    "                tooLarge_ID.append(i)\n",
    "        except KeyError:\n",
    "            i = 1 + 1\n",
    "                \n",
    "    return tooLarge_ID\n",
    "\n",
    "def printMatches(dataset, ids):\n",
    "    ids = np.array(ids)\n",
    "    print(dataset.iloc[ids])       \n",
    "    return\n",
    "\n",
    "def neighCoding(neighbor):\n",
    "    neighbor = neighbor.copy()\n",
    "    misspelling = []\n",
    "    for n in range(len(neighbor)):\n",
    "        try:\n",
    "            if neighbor.iloc[n] == \"Blmngtn\":\n",
    "                neighbor.iloc[n] = 1\n",
    "            elif neighbor.iloc[n] == \"Blueste\":\n",
    "                neighbor.iloc[n] = 2\n",
    "            elif neighbor.iloc[n] == \"BrDale\":\n",
    "                neighbor.iloc[n] = 3\n",
    "            elif neighbor.iloc[n] == \"BrkSide\":\n",
    "                neighbor.iloc[n] = 4\n",
    "            elif neighbor.iloc[n] == \"ClearCr\":\n",
    "                neighbor.iloc[n] = 5\n",
    "            elif neighbor.iloc[n] == \"CollgCr\":\n",
    "                neighbor.iloc[n] = 6\n",
    "            elif neighbor.iloc[n] == \"Crawfor\":\n",
    "                neighbor.iloc[n] = 7\n",
    "            elif neighbor.iloc[n] == \"Edwards\":\n",
    "                neighbor.iloc[n] = 8\n",
    "            elif neighbor.iloc[n] == \"Gilbert\":\n",
    "                neighbor.iloc[n] = 9\n",
    "            elif neighbor.iloc[n] == \"IDOTRR\":\n",
    "                neighbor.iloc[n] = 10\n",
    "            elif neighbor.iloc[n] == \"MeadowV\":\n",
    "                neighbor.iloc[n] = 11\n",
    "            elif neighbor.iloc[n] == \"Mitchel\":\n",
    "                neighbor.iloc[n] = 12\n",
    "            elif neighbor.iloc[n] == \"NAmes\":\n",
    "                neighbor.iloc[n] = 13\n",
    "            elif neighbor.iloc[n] == \"NoRidge\":\n",
    "                neighbor.iloc[n] = 14\n",
    "            elif neighbor.iloc[n] == \"NPkVill\":\n",
    "                neighbor.iloc[n] = 15\n",
    "            elif neighbor.iloc[n] == \"NridgHt\":\n",
    "                neighbor.iloc[n] = 16\n",
    "            elif neighbor.iloc[n] == \"NWAmes\":\n",
    "                neighbor.iloc[n] = 17\n",
    "            elif neighbor.iloc[n] == \"OldTown\":\n",
    "                neighbor.iloc[n] = 18\n",
    "            elif neighbor.iloc[n] == \"SWISU\":\n",
    "                neighbor.iloc[n] = 19\n",
    "            elif neighbor.iloc[n] == \"Sawyer\":\n",
    "                neighbor.iloc[n] = 20\n",
    "            elif neighbor.iloc[n] == \"SawyerW\":\n",
    "                neighbor.iloc[n] = 21\n",
    "            elif neighbor.iloc[n] == \"Somerst\":\n",
    "                neighbor.iloc[n] = 22\n",
    "            elif neighbor.iloc[n] == \"StoneBr\":\n",
    "                neighbor.iloc[n] = 23\n",
    "            elif neighbor.iloc[n] == \"Timber\":\n",
    "                neighbor.iloc[n] = 24\n",
    "            elif neighbor.iloc[n] == \"Veenker\":\n",
    "                neighbor.iloc[n] = 25\n",
    "        except KeyError:\n",
    "            n = n + 1\n",
    "    return neighbor\n",
    "        "
   ]
  },
  {
   "cell_type": "markdown",
   "metadata": {},
   "source": [
    "Recoding Neighborhood Data For Analysis"
   ]
  },
  {
   "cell_type": "code",
   "execution_count": 6,
   "metadata": {},
   "outputs": [],
   "source": [
    "train_set[\"Neighborhood\"] = neighCoding(train_set[\"Neighborhood\"])"
   ]
  },
  {
   "cell_type": "markdown",
   "metadata": {},
   "source": [
    "Plotting Neighborhood Data with Price Data"
   ]
  },
  {
   "cell_type": "code",
   "execution_count": 7,
   "metadata": {},
   "outputs": [
    {
     "data": {
      "text/plain": [
       "0     6\n",
       "1    25\n",
       "2     6\n",
       "3     7\n",
       "4    14\n",
       "Name: Neighborhood, dtype: int64"
      ]
     },
     "execution_count": 7,
     "metadata": {},
     "output_type": "execute_result"
    }
   ],
   "source": [
    "train_set[\"Neighborhood\"].head()"
   ]
  },
  {
   "cell_type": "code",
   "execution_count": 8,
   "metadata": {},
   "outputs": [
    {
     "data": {
      "text/plain": [
       "<function matplotlib.pyplot.show(*args, **kw)>"
      ]
     },
     "execution_count": 8,
     "metadata": {},
     "output_type": "execute_result"
    },
    {
     "data": {
      "image/png": "[encoded data removed]",
      "text/plain": [
       "<Figure size 720x576 with 1 Axes>"
      ]
     },
     "metadata": {
      "needs_background": "light"
     },
     "output_type": "display_data"
    }
   ],
   "source": [
    "plt.figure(figsize = (10,8))\n",
    "plt.scatter(train_set[\"LotFrontage\"], train_set[\"SalePrice\"])\n",
    "plt.show"
   ]
  },
  {
   "cell_type": "markdown",
   "metadata": {},
   "source": [
    "Finding Outliers in 1st Floor Area"
   ]
  },
  {
   "cell_type": "code",
   "execution_count": 9,
   "metadata": {},
   "outputs": [
    {
     "name": "stdout",
     "output_type": "stream",
     "text": [
      "        Id  MSSubClass MSZoning  LotFrontage  LotArea Street Alley LotShape  \\\n",
      "1298  1299          60       RL        313.0    63887   Pave     0      IR3   \n",
      "\n",
      "     LandContour Utilities  ... PoolArea PoolQC  Fence MiscFeature MiscVal  \\\n",
      "1298         Bnk    AllPub  ...      480     Gd      0           0       0   \n",
      "\n",
      "     MoSold YrSold  SaleType  SaleCondition  SalePrice  \n",
      "1298      1   2008       New        Partial     160000  \n",
      "\n",
      "[1 rows x 81 columns]\n"
     ]
    }
   ],
   "source": [
    "large1stArea = []\n",
    "large1stArea = (tooLarge(train_set[\"1stFlrSF\"], 4000))\n",
    "printMatches(train_set, large1stArea)"
   ]
  },
  {
   "cell_type": "code",
   "execution_count": 10,
   "metadata": {
    "scrolled": true
   },
   "outputs": [
    {
     "data": {
      "image/png": "[encoded data removed]",
      "text/plain": [
       "<Figure size 720x576 with 1 Axes>"
      ]
     },
     "metadata": {
      "needs_background": "light"
     },
     "output_type": "display_data"
    }
   ],
   "source": [
    "plt.figure(figsize = (10,8))\n",
    "plt.boxplot(train_set[\"YearRemodAdd\"])\n",
    "plt.show()"
   ]
  },
  {
   "cell_type": "markdown",
   "metadata": {},
   "source": [
    "Finding Outliers with Lot Area"
   ]
  },
  {
   "cell_type": "code",
   "execution_count": 11,
   "metadata": {},
   "outputs": [
    {
     "name": "stdout",
     "output_type": "stream",
     "text": [
      "      Id  MSSubClass MSZoning  LotFrontage  LotArea Street Alley LotShape  \\\n",
      "249  250          50       RL          0.0   159000   Pave     0      IR2   \n",
      "313  314          20       RL        150.0   215245   Pave     0      IR3   \n",
      "335  336         190       RL          0.0   164660   Grvl     0      IR1   \n",
      "706  707          20       RL          0.0   115149   Pave     0      IR2   \n",
      "\n",
      "    LandContour Utilities  ... PoolArea PoolQC  Fence MiscFeature MiscVal  \\\n",
      "249         Low    AllPub  ...        0      0      0        Shed     500   \n",
      "313         Low    AllPub  ...        0      0      0           0       0   \n",
      "335         HLS    AllPub  ...        0      0      0        Shed     700   \n",
      "706         Low    AllPub  ...        0      0      0           0       0   \n",
      "\n",
      "    MoSold YrSold  SaleType  SaleCondition  SalePrice  \n",
      "249      6   2007        WD         Normal     277000  \n",
      "313      6   2009        WD         Normal     375000  \n",
      "335      8   2008        WD         Normal     228950  \n",
      "706      6   2007        WD         Normal     302000  \n",
      "\n",
      "[4 rows x 81 columns]\n"
     ]
    }
   ],
   "source": [
    "largeLotArea = []\n",
    "largeLotArea = (tooLarge(train_set[\"LotArea\"], 100000))\n",
    "printMatches(train_set, largeLotArea)\n"
   ]
  },
  {
   "cell_type": "markdown",
   "metadata": {},
   "source": [
    "Finding Frontage Outliers"
   ]
  },
  {
   "cell_type": "code",
   "execution_count": 12,
   "metadata": {},
   "outputs": [
    {
     "name": "stdout",
     "output_type": "stream",
     "text": [
      "        Id  MSSubClass MSZoning  LotFrontage  LotArea Street Alley LotShape  \\\n",
      "934    935          20       RL        313.0    27650   Pave     0      IR2   \n",
      "1298  1299          60       RL        313.0    63887   Pave     0      IR3   \n",
      "\n",
      "     LandContour Utilities  ... PoolArea PoolQC  Fence MiscFeature MiscVal  \\\n",
      "934          HLS    AllPub  ...        0      0      0           0       0   \n",
      "1298         Bnk    AllPub  ...      480     Gd      0           0       0   \n",
      "\n",
      "     MoSold YrSold  SaleType  SaleCondition  SalePrice  \n",
      "934      11   2008        WD         Normal     242000  \n",
      "1298      1   2008       New        Partial     160000  \n",
      "\n",
      "[2 rows x 81 columns]\n"
     ]
    }
   ],
   "source": [
    "largeFrontage = []\n",
    "largeFrontage = (tooLarge(train_set[\"LotFrontage\"], 300))\n",
    "printMatches(train_set, largeFrontage)"
   ]
  },
  {
   "cell_type": "markdown",
   "metadata": {},
   "source": [
    "Finding Outliers in Price Data"
   ]
  },
  {
   "cell_type": "code",
   "execution_count": 13,
   "metadata": {},
   "outputs": [
    {
     "name": "stdout",
     "output_type": "stream",
     "text": [
      "        Id  MSSubClass MSZoning  LotFrontage  LotArea Street Alley LotShape  \\\n",
      "691    692          60       RL        104.0    21535   Pave     0      IR1   \n",
      "1182  1183          60       RL        160.0    15623   Pave     0      IR1   \n",
      "\n",
      "     LandContour Utilities  ... PoolArea PoolQC  Fence MiscFeature MiscVal  \\\n",
      "691          Lvl    AllPub  ...        0      0      0           0       0   \n",
      "1182         Lvl    AllPub  ...      555     Ex  MnPrv           0       0   \n",
      "\n",
      "     MoSold YrSold  SaleType  SaleCondition  SalePrice  \n",
      "691       1   2007        WD         Normal     755000  \n",
      "1182      7   2007        WD        Abnorml     745000  \n",
      "\n",
      "[2 rows x 81 columns]\n"
     ]
    },
    {
     "data": {
      "text/plain": [
       "691     10\n",
       "1182    10\n",
       "Name: OverallQual, dtype: int64"
      ]
     },
     "execution_count": 13,
     "metadata": {},
     "output_type": "execute_result"
    }
   ],
   "source": [
    "highPricesID = []\n",
    "highPricesID = tooLarge(train_set[\"SalePrice\"], 700000)\n",
    "printMatches(train_set, highPricesID)\n",
    "\n",
    "train_set[\"OverallQual\"].iloc[highPricesID]"
   ]
  },
  {
   "cell_type": "markdown",
   "metadata": {},
   "source": [
    "Dropping the outlier rows"
   ]
  },
  {
   "cell_type": "code",
   "execution_count": 14,
   "metadata": {},
   "outputs": [],
   "source": [
    "train_set = train_set.drop(highPricesID)\n",
    "train_set = train_set.drop(largeLotArea)\n",
    "train_set = train_set.drop(large1stArea)\n"
   ]
  },
  {
   "cell_type": "code",
   "execution_count": null,
   "metadata": {},
   "outputs": [],
   "source": []
  },
  {
   "cell_type": "code",
   "execution_count": 15,
   "metadata": {},
   "outputs": [
    {
     "data": {
      "text/plain": [
       "0"
      ]
     },
     "execution_count": 15,
     "metadata": {},
     "output_type": "execute_result"
    }
   ],
   "source": [
    "sum(train_set[\"MSSubClass\"].isna())"
   ]
  },
  {
   "cell_type": "markdown",
   "metadata": {},
   "source": [
    "Seperating Training data with the labels"
   ]
  },
  {
   "cell_type": "code",
   "execution_count": 16,
   "metadata": {},
   "outputs": [],
   "source": [
    "X = train_set.drop(['Id'], axis=1)\n",
    "Y = train_set[\"SalePrice\"]"
   ]
  },
  {
   "cell_type": "code",
   "execution_count": 17,
   "metadata": {},
   "outputs": [],
   "source": [
    "train, test, train_labels, test_labels = train_test_split(X, Y, test_size = 0.30)"
   ]
  },
  {
   "cell_type": "code",
   "execution_count": 18,
   "metadata": {},
   "outputs": [],
   "source": [
    "train_labels = np.array(train_labels)"
   ]
  },
  {
   "cell_type": "code",
   "execution_count": null,
   "metadata": {},
   "outputs": [],
   "source": []
  },
  {
   "cell_type": "code",
   "execution_count": null,
   "metadata": {},
   "outputs": [],
   "source": []
  },
  {
   "cell_type": "markdown",
   "metadata": {},
   "source": [
    "Testing Regression"
   ]
  },
  {
   "cell_type": "markdown",
   "metadata": {},
   "source": [
    "Scenario One: All Variables"
   ]
  },
  {
   "cell_type": "code",
   "execution_count": 19,
   "metadata": {},
   "outputs": [
    {
     "name": "stderr",
     "output_type": "stream",
     "text": [
      "C:\\Users\\Malcolm Wright\\Anaconda3\\lib\\site-packages\\numpy\\core\\fromnumeric.py:2389: FutureWarning: Method .ptp is deprecated and will be removed in a future version. Use numpy.ptp instead.\n",
      "  return ptp(axis=axis, out=out, **kwargs)\n"
     ]
    },
    {
     "data": {
      "text/html": [
       "<table class=\"simpletable\">\n",
       "<caption>OLS Regression Results</caption>\n",
       "<tr>\n",
       "  <th>Dep. Variable:</th>            <td>y</td>        <th>  R-squared:         </th> <td>   0.823</td> \n",
       "</tr>\n",
       "<tr>\n",
       "  <th>Model:</th>                   <td>OLS</td>       <th>  Adj. R-squared:    </th> <td>   0.820</td> \n",
       "</tr>\n",
       "<tr>\n",
       "  <th>Method:</th>             <td>Least Squares</td>  <th>  F-statistic:       </th> <td>   357.9</td> \n",
       "</tr>\n",
       "<tr>\n",
       "  <th>Date:</th>             <td>Fri, 03 Apr 2020</td> <th>  Prob (F-statistic):</th>  <td>  0.00</td>  \n",
       "</tr>\n",
       "<tr>\n",
       "  <th>Time:</th>                 <td>17:54:24</td>     <th>  Log-Likelihood:    </th> <td> -12001.</td> \n",
       "</tr>\n",
       "<tr>\n",
       "  <th>No. Observations:</th>      <td>  1017</td>      <th>  AIC:               </th> <td>2.403e+04</td>\n",
       "</tr>\n",
       "<tr>\n",
       "  <th>Df Residuals:</th>          <td>  1003</td>      <th>  BIC:               </th> <td>2.410e+04</td>\n",
       "</tr>\n",
       "<tr>\n",
       "  <th>Df Model:</th>              <td>    13</td>      <th>                     </th>     <td> </td>    \n",
       "</tr>\n",
       "<tr>\n",
       "  <th>Covariance Type:</th>      <td>nonrobust</td>    <th>                     </th>     <td> </td>    \n",
       "</tr>\n",
       "</table>\n",
       "<table class=\"simpletable\">\n",
       "<tr>\n",
       "        <td></td>          <th>coef</th>     <th>std err</th>      <th>t</th>      <th>P>|t|</th>  <th>[0.025</th>    <th>0.975]</th>  \n",
       "</tr>\n",
       "<tr>\n",
       "  <th>const</th>        <td>-1.233e+06</td> <td> 1.26e+05</td> <td>   -9.788</td> <td> 0.000</td> <td>-1.48e+06</td> <td>-9.85e+05</td>\n",
       "</tr>\n",
       "<tr>\n",
       "  <th>LotArea</th>      <td>    1.2131</td> <td>    0.213</td> <td>    5.688</td> <td> 0.000</td> <td>    0.795</td> <td>    1.632</td>\n",
       "</tr>\n",
       "<tr>\n",
       "  <th>LotFrontage</th>  <td>   49.7268</td> <td>   31.714</td> <td>    1.568</td> <td> 0.117</td> <td>  -12.506</td> <td>  111.959</td>\n",
       "</tr>\n",
       "<tr>\n",
       "  <th>OverallQual</th>  <td>  1.63e+04</td> <td> 1230.560</td> <td>   13.244</td> <td> 0.000</td> <td> 1.39e+04</td> <td> 1.87e+04</td>\n",
       "</tr>\n",
       "<tr>\n",
       "  <th>BedroomAbvGr</th> <td>-1.152e+04</td> <td> 1843.094</td> <td>   -6.249</td> <td> 0.000</td> <td>-1.51e+04</td> <td>-7901.457</td>\n",
       "</tr>\n",
       "<tr>\n",
       "  <th>TotRmsAbvGrd</th> <td> 4377.4011</td> <td> 1344.007</td> <td>    3.257</td> <td> 0.001</td> <td> 1740.012</td> <td> 7014.790</td>\n",
       "</tr>\n",
       "<tr>\n",
       "  <th>GarageArea</th>   <td>   29.2764</td> <td>    6.349</td> <td>    4.611</td> <td> 0.000</td> <td>   16.818</td> <td>   41.735</td>\n",
       "</tr>\n",
       "<tr>\n",
       "  <th>YearBuilt</th>    <td>  496.0999</td> <td>   57.054</td> <td>    8.695</td> <td> 0.000</td> <td>  384.140</td> <td>  608.060</td>\n",
       "</tr>\n",
       "<tr>\n",
       "  <th>MSSubClass</th>   <td>  -98.0513</td> <td>   28.290</td> <td>   -3.466</td> <td> 0.001</td> <td> -153.566</td> <td>  -42.536</td>\n",
       "</tr>\n",
       "<tr>\n",
       "  <th>WoodDeckSF</th>   <td>   23.9366</td> <td>    8.831</td> <td>    2.711</td> <td> 0.007</td> <td>    6.608</td> <td>   41.266</td>\n",
       "</tr>\n",
       "<tr>\n",
       "  <th>GrLivArea</th>    <td>   51.4394</td> <td>    4.468</td> <td>   11.512</td> <td> 0.000</td> <td>   42.671</td> <td>   60.207</td>\n",
       "</tr>\n",
       "<tr>\n",
       "  <th>TotalBsmtSF</th>  <td>   28.3473</td> <td>    3.294</td> <td>    8.605</td> <td> 0.000</td> <td>   21.883</td> <td>   34.812</td>\n",
       "</tr>\n",
       "<tr>\n",
       "  <th>YearRemodAdd</th> <td>   89.3561</td> <td>   71.060</td> <td>    1.257</td> <td> 0.209</td> <td>  -50.087</td> <td>  228.799</td>\n",
       "</tr>\n",
       "<tr>\n",
       "  <th>OverallCond</th>  <td> 5280.2021</td> <td> 1102.504</td> <td>    4.789</td> <td> 0.000</td> <td> 3116.724</td> <td> 7443.680</td>\n",
       "</tr>\n",
       "</table>\n",
       "<table class=\"simpletable\">\n",
       "<tr>\n",
       "  <th>Omnibus:</th>       <td>297.853</td> <th>  Durbin-Watson:     </th> <td>   1.957</td> \n",
       "</tr>\n",
       "<tr>\n",
       "  <th>Prob(Omnibus):</th> <td> 0.000</td>  <th>  Jarque-Bera (JB):  </th> <td>21479.365</td>\n",
       "</tr>\n",
       "<tr>\n",
       "  <th>Skew:</th>          <td>-0.351</td>  <th>  Prob(JB):          </th> <td>    0.00</td> \n",
       "</tr>\n",
       "<tr>\n",
       "  <th>Kurtosis:</th>      <td>25.503</td>  <th>  Cond. No.          </th> <td>1.48e+06</td> \n",
       "</tr>\n",
       "</table><br/><br/>Warnings:<br/>[1] Standard Errors assume that the covariance matrix of the errors is correctly specified.<br/>[2] The condition number is large, 1.48e+06. This might indicate that there are<br/>strong multicollinearity or other numerical problems."
      ],
      "text/plain": [
       "<class 'statsmodels.iolib.summary.Summary'>\n",
       "\"\"\"\n",
       "                            OLS Regression Results                            \n",
       "==============================================================================\n",
       "Dep. Variable:                      y   R-squared:                       0.823\n",
       "Model:                            OLS   Adj. R-squared:                  0.820\n",
       "Method:                 Least Squares   F-statistic:                     357.9\n",
       "Date:                Fri, 03 Apr 2020   Prob (F-statistic):               0.00\n",
       "Time:                        17:54:24   Log-Likelihood:                -12001.\n",
       "No. Observations:                1017   AIC:                         2.403e+04\n",
       "Df Residuals:                    1003   BIC:                         2.410e+04\n",
       "Df Model:                          13                                         \n",
       "Covariance Type:            nonrobust                                         \n",
       "================================================================================\n",
       "                   coef    std err          t      P>|t|      [0.025      0.975]\n",
       "--------------------------------------------------------------------------------\n",
       "const        -1.233e+06   1.26e+05     -9.788      0.000   -1.48e+06   -9.85e+05\n",
       "LotArea          1.2131      0.213      5.688      0.000       0.795       1.632\n",
       "LotFrontage     49.7268     31.714      1.568      0.117     -12.506     111.959\n",
       "OverallQual    1.63e+04   1230.560     13.244      0.000    1.39e+04    1.87e+04\n",
       "BedroomAbvGr -1.152e+04   1843.094     -6.249      0.000   -1.51e+04   -7901.457\n",
       "TotRmsAbvGrd  4377.4011   1344.007      3.257      0.001    1740.012    7014.790\n",
       "GarageArea      29.2764      6.349      4.611      0.000      16.818      41.735\n",
       "YearBuilt      496.0999     57.054      8.695      0.000     384.140     608.060\n",
       "MSSubClass     -98.0513     28.290     -3.466      0.001    -153.566     -42.536\n",
       "WoodDeckSF      23.9366      8.831      2.711      0.007       6.608      41.266\n",
       "GrLivArea       51.4394      4.468     11.512      0.000      42.671      60.207\n",
       "TotalBsmtSF     28.3473      3.294      8.605      0.000      21.883      34.812\n",
       "YearRemodAdd    89.3561     71.060      1.257      0.209     -50.087     228.799\n",
       "OverallCond   5280.2021   1102.504      4.789      0.000    3116.724    7443.680\n",
       "==============================================================================\n",
       "Omnibus:                      297.853   Durbin-Watson:                   1.957\n",
       "Prob(Omnibus):                  0.000   Jarque-Bera (JB):            21479.365\n",
       "Skew:                          -0.351   Prob(JB):                         0.00\n",
       "Kurtosis:                      25.503   Cond. No.                     1.48e+06\n",
       "==============================================================================\n",
       "\n",
       "Warnings:\n",
       "[1] Standard Errors assume that the covariance matrix of the errors is correctly specified.\n",
       "[2] The condition number is large, 1.48e+06. This might indicate that there are\n",
       "strong multicollinearity or other numerical problems.\n",
       "\"\"\""
      ]
     },
     "execution_count": 19,
     "metadata": {},
     "output_type": "execute_result"
    }
   ],
   "source": [
    "features = ['LotArea', 'LotFrontage', 'OverallQual', 'BedroomAbvGr', 'TotRmsAbvGrd', 'GarageArea', \"YearBuilt\", 'MSSubClass', \"WoodDeckSF\", \"GrLivArea\", \"TotalBsmtSF\", \"YearRemodAdd\", \"OverallCond\"]\n",
    "\n",
    "X1 = sm.add_constant(train[features])\n",
    "reg = sm.OLS(train_labels, X1).fit()\n",
    "\n",
    "reg.summary()"
   ]
  },
  {
   "cell_type": "markdown",
   "metadata": {},
   "source": [
    "Scenario Two"
   ]
  },
  {
   "cell_type": "code",
   "execution_count": 20,
   "metadata": {},
   "outputs": [
    {
     "data": {
      "text/html": [
       "<table class=\"simpletable\">\n",
       "<caption>OLS Regression Results</caption>\n",
       "<tr>\n",
       "  <th>Dep. Variable:</th>            <td>y</td>        <th>  R-squared:         </th> <td>   0.041</td> \n",
       "</tr>\n",
       "<tr>\n",
       "  <th>Model:</th>                   <td>OLS</td>       <th>  Adj. R-squared:    </th> <td>   0.040</td> \n",
       "</tr>\n",
       "<tr>\n",
       "  <th>Method:</th>             <td>Least Squares</td>  <th>  F-statistic:       </th> <td>   43.78</td> \n",
       "</tr>\n",
       "<tr>\n",
       "  <th>Date:</th>             <td>Fri, 03 Apr 2020</td> <th>  Prob (F-statistic):</th> <td>5.92e-11</td> \n",
       "</tr>\n",
       "<tr>\n",
       "  <th>Time:</th>                 <td>17:54:24</td>     <th>  Log-Likelihood:    </th> <td> -12859.</td> \n",
       "</tr>\n",
       "<tr>\n",
       "  <th>No. Observations:</th>      <td>  1017</td>      <th>  AIC:               </th> <td>2.572e+04</td>\n",
       "</tr>\n",
       "<tr>\n",
       "  <th>Df Residuals:</th>          <td>  1015</td>      <th>  BIC:               </th> <td>2.573e+04</td>\n",
       "</tr>\n",
       "<tr>\n",
       "  <th>Df Model:</th>              <td>     1</td>      <th>                     </th>     <td> </td>    \n",
       "</tr>\n",
       "<tr>\n",
       "  <th>Covariance Type:</th>      <td>nonrobust</td>    <th>                     </th>     <td> </td>    \n",
       "</tr>\n",
       "</table>\n",
       "<table class=\"simpletable\">\n",
       "<tr>\n",
       "       <td></td>          <th>coef</th>     <th>std err</th>      <th>t</th>      <th>P>|t|</th>  <th>[0.025</th>    <th>0.975]</th>  \n",
       "</tr>\n",
       "<tr>\n",
       "  <th>const</th>       <td> 1.539e+05</td> <td> 4577.970</td> <td>   33.622</td> <td> 0.000</td> <td> 1.45e+05</td> <td> 1.63e+05</td>\n",
       "</tr>\n",
       "<tr>\n",
       "  <th>LotFrontage</th> <td>  451.3196</td> <td>   68.206</td> <td>    6.617</td> <td> 0.000</td> <td>  317.478</td> <td>  585.161</td>\n",
       "</tr>\n",
       "</table>\n",
       "<table class=\"simpletable\">\n",
       "<tr>\n",
       "  <th>Omnibus:</th>       <td>300.919</td> <th>  Durbin-Watson:     </th> <td>   1.899</td> \n",
       "</tr>\n",
       "<tr>\n",
       "  <th>Prob(Omnibus):</th> <td> 0.000</td>  <th>  Jarque-Bera (JB):  </th> <td> 912.032</td> \n",
       "</tr>\n",
       "<tr>\n",
       "  <th>Skew:</th>          <td> 1.467</td>  <th>  Prob(JB):          </th> <td>9.01e-199</td>\n",
       "</tr>\n",
       "<tr>\n",
       "  <th>Kurtosis:</th>      <td> 6.593</td>  <th>  Cond. No.          </th> <td>    131.</td> \n",
       "</tr>\n",
       "</table><br/><br/>Warnings:<br/>[1] Standard Errors assume that the covariance matrix of the errors is correctly specified."
      ],
      "text/plain": [
       "<class 'statsmodels.iolib.summary.Summary'>\n",
       "\"\"\"\n",
       "                            OLS Regression Results                            \n",
       "==============================================================================\n",
       "Dep. Variable:                      y   R-squared:                       0.041\n",
       "Model:                            OLS   Adj. R-squared:                  0.040\n",
       "Method:                 Least Squares   F-statistic:                     43.78\n",
       "Date:                Fri, 03 Apr 2020   Prob (F-statistic):           5.92e-11\n",
       "Time:                        17:54:24   Log-Likelihood:                -12859.\n",
       "No. Observations:                1017   AIC:                         2.572e+04\n",
       "Df Residuals:                    1015   BIC:                         2.573e+04\n",
       "Df Model:                           1                                         \n",
       "Covariance Type:            nonrobust                                         \n",
       "===============================================================================\n",
       "                  coef    std err          t      P>|t|      [0.025      0.975]\n",
       "-------------------------------------------------------------------------------\n",
       "const        1.539e+05   4577.970     33.622      0.000    1.45e+05    1.63e+05\n",
       "LotFrontage   451.3196     68.206      6.617      0.000     317.478     585.161\n",
       "==============================================================================\n",
       "Omnibus:                      300.919   Durbin-Watson:                   1.899\n",
       "Prob(Omnibus):                  0.000   Jarque-Bera (JB):              912.032\n",
       "Skew:                           1.467   Prob(JB):                    9.01e-199\n",
       "Kurtosis:                       6.593   Cond. No.                         131.\n",
       "==============================================================================\n",
       "\n",
       "Warnings:\n",
       "[1] Standard Errors assume that the covariance matrix of the errors is correctly specified.\n",
       "\"\"\""
      ]
     },
     "execution_count": 20,
     "metadata": {},
     "output_type": "execute_result"
    }
   ],
   "source": [
    "X1 = sm.add_constant((train[[\"LotFrontage\"]]))\n",
    "reg = sm.OLS(train_labels, X1).fit()\n",
    "\n",
    "reg.summary()"
   ]
  },
  {
   "cell_type": "code",
   "execution_count": null,
   "metadata": {},
   "outputs": [],
   "source": []
  },
  {
   "cell_type": "markdown",
   "metadata": {},
   "source": [
    "Random Forests"
   ]
  },
  {
   "cell_type": "code",
   "execution_count": null,
   "metadata": {},
   "outputs": [],
   "source": []
  },
  {
   "cell_type": "code",
   "execution_count": 21,
   "metadata": {},
   "outputs": [
    {
     "name": "stdout",
     "output_type": "stream",
     "text": [
      "Validation MAE when not specifying max_leaf_nodes: 26,756\n"
     ]
    }
   ],
   "source": [
    "iowa_model = DecisionTreeRegressor(random_state=1)\n",
    "# Fit Model\n",
    "iowa_model.fit(train[features], train_labels)\n",
    "\n",
    "# Make validation predictions and calculate mean absolute error\n",
    "val_predictions = iowa_model.predict(test[features])\n",
    "val_mae = mean_absolute_error(val_predictions, test_labels)\n",
    "print(\"Validation MAE when not specifying max_leaf_nodes: {:,.0f}\".format(val_mae))"
   ]
  },
  {
   "cell_type": "code",
   "execution_count": 22,
   "metadata": {},
   "outputs": [
    {
     "name": "stdout",
     "output_type": "stream",
     "text": [
      "Validation MAE for best value of max_leaf_nodes: 23,880\n"
     ]
    }
   ],
   "source": [
    "# Using best value for max_leaf_nodes\n",
    "iowa_model = DecisionTreeRegressor(max_leaf_nodes=100, random_state=1)\n",
    "iowa_model.fit(train[features], train_labels)\n",
    "\n",
    "val_predictions = iowa_model.predict(test[features])\n",
    "val_mae = mean_absolute_error(val_predictions, test_labels)\n",
    "print(\"Validation MAE for best value of max_leaf_nodes: {:,.0f}\".format(val_mae))"
   ]
  },
  {
   "cell_type": "markdown",
   "metadata": {},
   "source": [
    "Preparing Submissions"
   ]
  },
  {
   "cell_type": "code",
   "execution_count": 23,
   "metadata": {},
   "outputs": [
    {
     "name": "stdout",
     "output_type": "stream",
     "text": [
      "Empty DataFrame\n",
      "Columns: [LotArea, LotFrontage, OverallQual, BedroomAbvGr, TotRmsAbvGrd, GarageArea, YearBuilt, MSSubClass, WoodDeckSF, GrLivArea, TotalBsmtSF, YearRemodAdd, OverallCond]\n",
      "Index: []\n",
      "Empty DataFrame\n",
      "Columns: [LotArea, LotFrontage, OverallQual, BedroomAbvGr, TotRmsAbvGrd, GarageArea, YearBuilt, MSSubClass, WoodDeckSF, GrLivArea, TotalBsmtSF, YearRemodAdd, OverallCond]\n",
      "Index: []\n"
     ]
    }
   ],
   "source": [
    "\n",
    "#sub_data[\"Neighborhood\"] = neighCoding(sub_data[\"Neighborhood\"])\n",
    "\n"
   ]
  },
  {
   "cell_type": "code",
   "execution_count": 24,
   "metadata": {},
   "outputs": [
    {
     "data": {
      "text/plain": [
       "array([120654.05      , 156071.42857143, 148714.28571429, ...,\n",
       "       136126.5625    , 106829.77777778, 222076.66666667])"
      ]
     },
     "execution_count": 24,
     "metadata": {},
     "output_type": "execute_result"
    }
   ],
   "source": [
    "sub_predictions = iowa_model.predict(imputed_X_valid)\n",
    "sub_predictions"
   ]
  },
  {
   "cell_type": "code",
   "execution_count": 25,
   "metadata": {},
   "outputs": [
    {
     "data": {
      "text/html": [
       "<div>\n",
       "<style scoped>\n",
       "    .dataframe tbody tr th:only-of-type {\n",
       "        vertical-align: middle;\n",
       "    }\n",
       "\n",
       "    .dataframe tbody tr th {\n",
       "        vertical-align: top;\n",
       "    }\n",
       "\n",
       "    .dataframe thead th {\n",
       "        text-align: right;\n",
       "    }\n",
       "</style>\n",
       "<table border=\"1\" class=\"dataframe\">\n",
       "  <thead>\n",
       "    <tr style=\"text-align: right;\">\n",
       "      <th></th>\n",
       "      <th>SalePrice</th>\n",
       "    </tr>\n",
       "    <tr>\n",
       "      <th>Id</th>\n",
       "      <th></th>\n",
       "    </tr>\n",
       "  </thead>\n",
       "  <tbody>\n",
       "    <tr>\n",
       "      <th>1461</th>\n",
       "      <td>120654.050000</td>\n",
       "    </tr>\n",
       "    <tr>\n",
       "      <th>1462</th>\n",
       "      <td>156071.428571</td>\n",
       "    </tr>\n",
       "    <tr>\n",
       "      <th>1463</th>\n",
       "      <td>148714.285714</td>\n",
       "    </tr>\n",
       "    <tr>\n",
       "      <th>1464</th>\n",
       "      <td>177593.482759</td>\n",
       "    </tr>\n",
       "    <tr>\n",
       "      <th>1465</th>\n",
       "      <td>212000.000000</td>\n",
       "    </tr>\n",
       "  </tbody>\n",
       "</table>\n",
       "</div>"
      ],
      "text/plain": [
       "          SalePrice\n",
       "Id                 \n",
       "1461  120654.050000\n",
       "1462  156071.428571\n",
       "1463  148714.285714\n",
       "1464  177593.482759\n",
       "1465  212000.000000"
      ]
     },
     "execution_count": 25,
     "metadata": {},
     "output_type": "execute_result"
    }
   ],
   "source": [
    "sub_predictions = pd.DataFrame(sub_predictions, index = test_set[\"Id\"], columns = [\"SalePrice\"])\n",
    "sub_predictions.head()"
   ]
  },
  {
   "cell_type": "markdown",
   "metadata": {},
   "source": [
    "Export Submission"
   ]
  },
  {
   "cell_type": "code",
   "execution_count": 26,
   "metadata": {},
   "outputs": [],
   "source": [
    "sub_predictions.to_csv(r\"C:\\Users\\Malcolm Wright\\Desktop\\Housing Prices\\Housing Price\\Submission.csv\")"
   ]
  },
  {
   "cell_type": "code",
   "execution_count": null,
   "metadata": {},
   "outputs": [],
   "source": []
  }
 ],
 "metadata": {
  "kernelspec": {
   "display_name": "Python 3",
   "language": "python",
   "name": "python3"
  },
  "language_info": {
   "codemirror_mode": {
    "name": "ipython",
    "version": 3
   },
   "file_extension": ".py",
   "mimetype": "text/x-python",
   "name": "python",
   "nbconvert_exporter": "python",
   "pygments_lexer": "ipython3",
   "version": "3.7.3"
  }
 },
 "nbformat": 4,
 "nbformat_minor": 2
}
