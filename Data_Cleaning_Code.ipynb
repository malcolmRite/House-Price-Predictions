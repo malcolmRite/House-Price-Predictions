{
  "nbformat": 4,
  "nbformat_minor": 0,
  "metadata": {
    "colab": {
      "name": "Data Cleaning Code",
      "provenance": [],
      "toc_visible": true,
      "mount_file_id": "1gcupm96owvNRO9_f02mk1nzqo3KT1kEv",
      "authorship_tag": "ABX9TyNSJw5nFXhYC9DrgbBtOxtA",
      "include_colab_link": true
    },
    "kernelspec": {
      "name": "python3",
      "display_name": "Python 3"
    }
  },
  "cells": [
    {
      "cell_type": "markdown",
      "metadata": {
        "id": "view-in-github",
        "colab_type": "text"
      },
      "source": [
        "<a href=\"https://colab.research.google.com/github/malcolmRite/House-Price-Predictions/blob/master/Data_Cleaning_Code.ipynb\" target=\"_parent\"><img src=\"https://colab.research.google.com/assets/colab-badge.svg\" alt=\"Open In Colab\"/></a>"
      ]
    },
    {
      "cell_type": "markdown",
      "metadata": {
        "id": "tc4kU2yX5cKq",
        "colab_type": "text"
      },
      "source": [
        "# Importing the Libraries"
      ]
    },
    {
      "cell_type": "code",
      "metadata": {
        "id": "tG73ylG25Jyf",
        "colab_type": "code",
        "colab": {}
      },
      "source": [
        "#Importing libraries for cleaning\n",
        "import pandas as pd\n",
        "import numpy as np\n",
        "import matplotlib.pyplot as plt\n"
      ],
      "execution_count": 2,
      "outputs": []
    },
    {
      "cell_type": "markdown",
      "metadata": {
        "id": "tsF0idbh6df0",
        "colab_type": "text"
      },
      "source": [
        "# Importing Training and Test Data"
      ]
    },
    {
      "cell_type": "code",
      "metadata": {
        "id": "x9aTfsOS5uow",
        "colab_type": "code",
        "colab": {}
      },
      "source": [
        "#Using Pandas Library to import training data\n",
        "train_data = pd.read_csv(\"drive/My Drive/Train.csv\")\n",
        "\n",
        "#Using Pandas Library to import test data\n",
        "test_data = pd.read_csv(\"drive/My Drive/Test.csv\")"
      ],
      "execution_count": 3,
      "outputs": []
    },
    {
      "cell_type": "markdown",
      "metadata": {
        "id": "Os9NIsek6mkj",
        "colab_type": "text"
      },
      "source": [
        "# Missing Values Code"
      ]
    },
    {
      "cell_type": "code",
      "metadata": {
        "id": "udjFF4U77MJP",
        "colab_type": "code",
        "colab": {
          "base_uri": "https://localhost:8080/",
          "height": 215
        },
        "outputId": "1e056eab-e82e-49ae-cff5-e2f18fab43aa"
      },
      "source": [
        "train_data.head()"
      ],
      "execution_count": 4,
      "outputs": [
        {
          "output_type": "execute_result",
          "data": {
            "text/html": [
              "<div>\n",
              "<style scoped>\n",
              "    .dataframe tbody tr th:only-of-type {\n",
              "        vertical-align: middle;\n",
              "    }\n",
              "\n",
              "    .dataframe tbody tr th {\n",
              "        vertical-align: top;\n",
              "    }\n",
              "\n",
              "    .dataframe thead th {\n",
              "        text-align: right;\n",
              "    }\n",
              "</style>\n",
              "<table border=\"1\" class=\"dataframe\">\n",
              "  <thead>\n",
              "    <tr style=\"text-align: right;\">\n",
              "      <th></th>\n",
              "      <th>ID</th>\n",
              "      <th>join_date</th>\n",
              "      <th>sex</th>\n",
              "      <th>marital_status</th>\n",
              "      <th>birth_year</th>\n",
              "      <th>branch_code</th>\n",
              "      <th>occupation_code</th>\n",
              "      <th>occupation_category_code</th>\n",
              "      <th>P5DA</th>\n",
              "      <th>RIBP</th>\n",
              "      <th>8NN1</th>\n",
              "      <th>7POT</th>\n",
              "      <th>66FJ</th>\n",
              "      <th>GYSR</th>\n",
              "      <th>SOP4</th>\n",
              "      <th>RVSZ</th>\n",
              "      <th>PYUQ</th>\n",
              "      <th>LJR9</th>\n",
              "      <th>N2MW</th>\n",
              "      <th>AHXO</th>\n",
              "      <th>BSTQ</th>\n",
              "      <th>FM3X</th>\n",
              "      <th>K6QO</th>\n",
              "      <th>QBOL</th>\n",
              "      <th>JWFN</th>\n",
              "      <th>JZ9D</th>\n",
              "      <th>J9JW</th>\n",
              "      <th>GHYX</th>\n",
              "      <th>ECY3</th>\n",
              "    </tr>\n",
              "  </thead>\n",
              "  <tbody>\n",
              "    <tr>\n",
              "      <th>0</th>\n",
              "      <td>4WKQSBB</td>\n",
              "      <td>1/2/2019</td>\n",
              "      <td>F</td>\n",
              "      <td>M</td>\n",
              "      <td>1987</td>\n",
              "      <td>1X1H</td>\n",
              "      <td>2A7I</td>\n",
              "      <td>T4MS</td>\n",
              "      <td>0</td>\n",
              "      <td>0</td>\n",
              "      <td>0</td>\n",
              "      <td>0</td>\n",
              "      <td>0</td>\n",
              "      <td>0</td>\n",
              "      <td>0</td>\n",
              "      <td>1</td>\n",
              "      <td>0</td>\n",
              "      <td>0</td>\n",
              "      <td>0</td>\n",
              "      <td>0</td>\n",
              "      <td>0</td>\n",
              "      <td>0</td>\n",
              "      <td>1</td>\n",
              "      <td>0</td>\n",
              "      <td>0</td>\n",
              "      <td>0</td>\n",
              "      <td>0</td>\n",
              "      <td>0</td>\n",
              "      <td>0</td>\n",
              "    </tr>\n",
              "    <tr>\n",
              "      <th>1</th>\n",
              "      <td>CP5S02H</td>\n",
              "      <td>1/6/2019</td>\n",
              "      <td>F</td>\n",
              "      <td>M</td>\n",
              "      <td>1981</td>\n",
              "      <td>UAOD</td>\n",
              "      <td>2A7I</td>\n",
              "      <td>T4MS</td>\n",
              "      <td>0</td>\n",
              "      <td>0</td>\n",
              "      <td>0</td>\n",
              "      <td>0</td>\n",
              "      <td>0</td>\n",
              "      <td>0</td>\n",
              "      <td>0</td>\n",
              "      <td>1</td>\n",
              "      <td>0</td>\n",
              "      <td>0</td>\n",
              "      <td>0</td>\n",
              "      <td>0</td>\n",
              "      <td>0</td>\n",
              "      <td>0</td>\n",
              "      <td>1</td>\n",
              "      <td>0</td>\n",
              "      <td>0</td>\n",
              "      <td>0</td>\n",
              "      <td>0</td>\n",
              "      <td>0</td>\n",
              "      <td>0</td>\n",
              "    </tr>\n",
              "    <tr>\n",
              "      <th>2</th>\n",
              "      <td>2YKDILJ</td>\n",
              "      <td>1/6/2013</td>\n",
              "      <td>M</td>\n",
              "      <td>U</td>\n",
              "      <td>1991</td>\n",
              "      <td>748L</td>\n",
              "      <td>QZYX</td>\n",
              "      <td>90QI</td>\n",
              "      <td>0</td>\n",
              "      <td>0</td>\n",
              "      <td>0</td>\n",
              "      <td>0</td>\n",
              "      <td>0</td>\n",
              "      <td>0</td>\n",
              "      <td>1</td>\n",
              "      <td>1</td>\n",
              "      <td>0</td>\n",
              "      <td>0</td>\n",
              "      <td>0</td>\n",
              "      <td>0</td>\n",
              "      <td>0</td>\n",
              "      <td>0</td>\n",
              "      <td>0</td>\n",
              "      <td>0</td>\n",
              "      <td>0</td>\n",
              "      <td>0</td>\n",
              "      <td>0</td>\n",
              "      <td>0</td>\n",
              "      <td>1</td>\n",
              "    </tr>\n",
              "    <tr>\n",
              "      <th>3</th>\n",
              "      <td>2S9E81J</td>\n",
              "      <td>1/8/2019</td>\n",
              "      <td>M</td>\n",
              "      <td>M</td>\n",
              "      <td>1990</td>\n",
              "      <td>1X1H</td>\n",
              "      <td>BP09</td>\n",
              "      <td>56SI</td>\n",
              "      <td>0</td>\n",
              "      <td>0</td>\n",
              "      <td>0</td>\n",
              "      <td>0</td>\n",
              "      <td>0</td>\n",
              "      <td>0</td>\n",
              "      <td>0</td>\n",
              "      <td>1</td>\n",
              "      <td>0</td>\n",
              "      <td>0</td>\n",
              "      <td>0</td>\n",
              "      <td>0</td>\n",
              "      <td>0</td>\n",
              "      <td>0</td>\n",
              "      <td>1</td>\n",
              "      <td>0</td>\n",
              "      <td>0</td>\n",
              "      <td>0</td>\n",
              "      <td>0</td>\n",
              "      <td>0</td>\n",
              "      <td>0</td>\n",
              "    </tr>\n",
              "    <tr>\n",
              "      <th>4</th>\n",
              "      <td>BHDYVFT</td>\n",
              "      <td>1/8/2019</td>\n",
              "      <td>M</td>\n",
              "      <td>M</td>\n",
              "      <td>1990</td>\n",
              "      <td>748L</td>\n",
              "      <td>NO3L</td>\n",
              "      <td>T4MS</td>\n",
              "      <td>0</td>\n",
              "      <td>0</td>\n",
              "      <td>0</td>\n",
              "      <td>0</td>\n",
              "      <td>0</td>\n",
              "      <td>0</td>\n",
              "      <td>0</td>\n",
              "      <td>0</td>\n",
              "      <td>0</td>\n",
              "      <td>0</td>\n",
              "      <td>0</td>\n",
              "      <td>0</td>\n",
              "      <td>0</td>\n",
              "      <td>0</td>\n",
              "      <td>0</td>\n",
              "      <td>0</td>\n",
              "      <td>0</td>\n",
              "      <td>1</td>\n",
              "      <td>1</td>\n",
              "      <td>0</td>\n",
              "      <td>0</td>\n",
              "    </tr>\n",
              "  </tbody>\n",
              "</table>\n",
              "</div>"
            ],
            "text/plain": [
              "        ID join_date sex marital_status  ...  JZ9D J9JW GHYX ECY3\n",
              "0  4WKQSBB  1/2/2019   F              M  ...     0    0    0    0\n",
              "1  CP5S02H  1/6/2019   F              M  ...     0    0    0    0\n",
              "2  2YKDILJ  1/6/2013   M              U  ...     0    0    0    1\n",
              "3  2S9E81J  1/8/2019   M              M  ...     0    0    0    0\n",
              "4  BHDYVFT  1/8/2019   M              M  ...     1    1    0    0\n",
              "\n",
              "[5 rows x 29 columns]"
            ]
          },
          "metadata": {
            "tags": []
          },
          "execution_count": 4
        }
      ]
    },
    {
      "cell_type": "code",
      "metadata": {
        "id": "mgaW1kpc7Lr3",
        "colab_type": "code",
        "colab": {
          "base_uri": "https://localhost:8080/",
          "height": 218
        },
        "outputId": "9be560af-5a96-494e-eff0-8975a03c8764"
      },
      "source": [
        "train_data['join_date']"
      ],
      "execution_count": 22,
      "outputs": [
        {
          "output_type": "execute_result",
          "data": {
            "text/plain": [
              "0       2019-01-02\n",
              "1       2019-01-06\n",
              "2       2013-01-06\n",
              "3       2019-01-08\n",
              "4       2019-01-08\n",
              "           ...    \n",
              "29127   2019-01-09\n",
              "29128   2018-01-11\n",
              "29129   2019-01-02\n",
              "29130   2019-01-07\n",
              "29131   2020-01-03\n",
              "Name: join_date, Length: 29130, dtype: datetime64[ns]"
            ]
          },
          "metadata": {
            "tags": []
          },
          "execution_count": 22
        }
      ]
    },
    {
      "cell_type": "code",
      "metadata": {
        "id": "-KPEOeMe6sfp",
        "colab_type": "code",
        "colab": {}
      },
      "source": [
        "#Check Missing Values in a Dataset\n",
        "def NACount(data):\n",
        "  NaCount = {}\n",
        "  for feature in data.columns:\n",
        "    NaCount[feature] = data[feature].isna().sum()\n",
        "\n",
        "  return NaCount"
      ],
      "execution_count": 6,
      "outputs": []
    },
    {
      "cell_type": "code",
      "metadata": {
        "id": "OLPb1LU4-pdo",
        "colab_type": "code",
        "colab": {}
      },
      "source": [
        "#Check Unique Values in Training Data\n",
        "def UniqueCount(data):\n",
        "  UnCount = {}\n",
        "  for feature in data.columns:\n",
        "    UnCount[feature] = data[feature].unique()\n",
        "\n",
        "  return UnCount"
      ],
      "execution_count": 7,
      "outputs": []
    },
    {
      "cell_type": "code",
      "metadata": {
        "id": "Gu56yprP8kRZ",
        "colab_type": "code",
        "colab": {
          "base_uri": "https://localhost:8080/",
          "height": 54
        },
        "outputId": "2a178729-4ac1-4f59-caeb-4df6b6adf6ce"
      },
      "source": [
        "#Run Function on training Data\n",
        "\n",
        "print(NACount(train_data))"
      ],
      "execution_count": 8,
      "outputs": [
        {
          "output_type": "stream",
          "text": [
            "{'ID': 0, 'join_date': 2, 'sex': 0, 'marital_status': 0, 'birth_year': 0, 'branch_code': 0, 'occupation_code': 0, 'occupation_category_code': 0, 'P5DA': 0, 'RIBP': 0, '8NN1': 0, '7POT': 0, '66FJ': 0, 'GYSR': 0, 'SOP4': 0, 'RVSZ': 0, 'PYUQ': 0, 'LJR9': 0, 'N2MW': 0, 'AHXO': 0, 'BSTQ': 0, 'FM3X': 0, 'K6QO': 0, 'QBOL': 0, 'JWFN': 0, 'JZ9D': 0, 'J9JW': 0, 'GHYX': 0, 'ECY3': 0}\n"
          ],
          "name": "stdout"
        }
      ]
    },
    {
      "cell_type": "code",
      "metadata": {
        "id": "tDlwd2xz9E32",
        "colab_type": "code",
        "colab": {
          "base_uri": "https://localhost:8080/",
          "height": 54
        },
        "outputId": "8424aadb-c39e-4db5-c182-ae7affa08c0d"
      },
      "source": [
        "#Run Function on test Data\n",
        "\n",
        "print(NACount(test_data))"
      ],
      "execution_count": 9,
      "outputs": [
        {
          "output_type": "stream",
          "text": [
            "{'ID': 0, 'join_date': 1, 'sex': 0, 'marital_status': 0, 'birth_year': 0, 'branch_code': 0, 'occupation_code': 0, 'occupation_category_code': 0, 'P5DA': 0, 'RIBP': 0, '8NN1': 0, '7POT': 0, '66FJ': 0, 'GYSR': 0, 'SOP4': 0, 'RVSZ': 0, 'PYUQ': 0, 'LJR9': 0, 'N2MW': 0, 'AHXO': 0, 'BSTQ': 0, 'FM3X': 0, 'K6QO': 0, 'QBOL': 0, 'JWFN': 0, 'JZ9D': 0, 'J9JW': 0, 'GHYX': 0, 'ECY3': 0}\n"
          ],
          "name": "stdout"
        }
      ]
    },
    {
      "cell_type": "code",
      "metadata": {
        "id": "GfgYKQzhAHXG",
        "colab_type": "code",
        "colab": {}
      },
      "source": [
        "#Run Unique Values Function on test Data\n",
        "\n",
        "print(UniqueCount(test_data))"
      ],
      "execution_count": null,
      "outputs": []
    },
    {
      "cell_type": "code",
      "metadata": {
        "id": "Nbn9REco9xj-",
        "colab_type": "code",
        "colab": {}
      },
      "source": [
        "#Run  Unique Values Function on training Data\n",
        "\n",
        "print(UniqueCount(train_data))"
      ],
      "execution_count": null,
      "outputs": []
    },
    {
      "cell_type": "code",
      "metadata": {
        "id": "vmndPFDxB_al",
        "colab_type": "code",
        "colab": {
          "base_uri": "https://localhost:8080/",
          "height": 54
        },
        "outputId": "0ca5086e-1283-406f-fdf8-f88a55128f37"
      },
      "source": [
        "#Drop the two records with missing join dates\n",
        "train_data.dropna(inplace = True)\n",
        "print(NACount(train_data))"
      ],
      "execution_count": 10,
      "outputs": [
        {
          "output_type": "stream",
          "text": [
            "{'ID': 0, 'join_date': 0, 'sex': 0, 'marital_status': 0, 'birth_year': 0, 'branch_code': 0, 'occupation_code': 0, 'occupation_category_code': 0, 'P5DA': 0, 'RIBP': 0, '8NN1': 0, '7POT': 0, '66FJ': 0, 'GYSR': 0, 'SOP4': 0, 'RVSZ': 0, 'PYUQ': 0, 'LJR9': 0, 'N2MW': 0, 'AHXO': 0, 'BSTQ': 0, 'FM3X': 0, 'K6QO': 0, 'QBOL': 0, 'JWFN': 0, 'JZ9D': 0, 'J9JW': 0, 'GHYX': 0, 'ECY3': 0}\n"
          ],
          "name": "stdout"
        }
      ]
    },
    {
      "cell_type": "code",
      "metadata": {
        "id": "SmJdNRl-Crds",
        "colab_type": "code",
        "colab": {
          "base_uri": "https://localhost:8080/",
          "height": 54
        },
        "outputId": "b680b75b-7d1d-4d9c-d762-85d1a4c77290"
      },
      "source": [
        "#Drop the one record with a missing join date from the Test Data\n",
        "train_data.dropna(inplace = True)\n",
        "print(NACount(train_data))"
      ],
      "execution_count": 11,
      "outputs": [
        {
          "output_type": "stream",
          "text": [
            "{'ID': 0, 'join_date': 0, 'sex': 0, 'marital_status': 0, 'birth_year': 0, 'branch_code': 0, 'occupation_code': 0, 'occupation_category_code': 0, 'P5DA': 0, 'RIBP': 0, '8NN1': 0, '7POT': 0, '66FJ': 0, 'GYSR': 0, 'SOP4': 0, 'RVSZ': 0, 'PYUQ': 0, 'LJR9': 0, 'N2MW': 0, 'AHXO': 0, 'BSTQ': 0, 'FM3X': 0, 'K6QO': 0, 'QBOL': 0, 'JWFN': 0, 'JZ9D': 0, 'J9JW': 0, 'GHYX': 0, 'ECY3': 0}\n"
          ],
          "name": "stdout"
        }
      ]
    },
    {
      "cell_type": "code",
      "metadata": {
        "id": "hdawYoemC-xS",
        "colab_type": "code",
        "colab": {}
      },
      "source": [
        "#Replacing little f with big F\n",
        "train_data.marital_status.replace([\"f\"], [\"F\"], inplace = True)"
      ],
      "execution_count": 12,
      "outputs": []
    },
    {
      "cell_type": "markdown",
      "metadata": {
        "id": "VR3SmzZLA_ED",
        "colab_type": "text"
      },
      "source": [
        "# Data Type Checking"
      ]
    },
    {
      "cell_type": "code",
      "metadata": {
        "id": "ZzZx9HIqKHwT",
        "colab_type": "code",
        "colab": {}
      },
      "source": [
        "def catDataType(data):\n",
        "  for feature in data.columns:\n",
        "    if data[feature].dtype == \"object\" and feature != \"ID\":\n",
        "      data[feature] = data[feature].astype('category')\n",
        "  \n",
        "  return data"
      ],
      "execution_count": 34,
      "outputs": []
    },
    {
      "cell_type": "code",
      "metadata": {
        "id": "QBioScizFNe-",
        "colab_type": "code",
        "colab": {}
      },
      "source": [
        "#Check the data types of the training data\n",
        "train_data.dtypes"
      ],
      "execution_count": null,
      "outputs": []
    },
    {
      "cell_type": "code",
      "metadata": {
        "id": "knlhERwLJVUc",
        "colab_type": "code",
        "colab": {}
      },
      "source": [
        "#Check the data types of the test data\n",
        "test_data.dtypes"
      ],
      "execution_count": null,
      "outputs": []
    },
    {
      "cell_type": "code",
      "metadata": {
        "id": "rUimAbXGJt5j",
        "colab_type": "code",
        "colab": {}
      },
      "source": [
        "#Convert the join date to datetime\n",
        "train_data['join_date'] = pd.to_datetime(train_data['join_date'])\n",
        "train_data.dtypes"
      ],
      "execution_count": null,
      "outputs": []
    },
    {
      "cell_type": "code",
      "metadata": {
        "id": "_wIB8v2uNQxJ",
        "colab_type": "code",
        "colab": {}
      },
      "source": [
        "test_data['join_date'] = pd.to_datetime(test_data['join_date'])\n",
        "train_data.dtypes"
      ],
      "execution_count": null,
      "outputs": []
    },
    {
      "cell_type": "code",
      "metadata": {
        "id": "DBMuzTplNpuQ",
        "colab_type": "code",
        "colab": {}
      },
      "source": [
        "train_data['birth_year'] = pd.to_datetime(train_data['birth_year'])\n",
        "test_data['birth_year'] = pd.to_datetime(test_data['birth_year'])"
      ],
      "execution_count": 24,
      "outputs": []
    },
    {
      "cell_type": "code",
      "metadata": {
        "id": "V9H4ITlGN0GA",
        "colab_type": "code",
        "colab": {}
      },
      "source": [
        "test_data.dtypes"
      ],
      "execution_count": null,
      "outputs": []
    },
    {
      "cell_type": "code",
      "metadata": {
        "id": "jVyxvyu0N9iE",
        "colab_type": "code",
        "colab": {}
      },
      "source": [
        "#Convert the categorial features into the category data type\n",
        "train_data = catDataType(train_data)\n",
        "train_data.dtypes"
      ],
      "execution_count": null,
      "outputs": []
    },
    {
      "cell_type": "code",
      "metadata": {
        "id": "dWXY2opRPtqS",
        "colab_type": "code",
        "colab": {}
      },
      "source": [
        "test_data = catDataType(test_data)"
      ],
      "execution_count": 38,
      "outputs": []
    },
    {
      "cell_type": "code",
      "metadata": {
        "id": "KiNrM-9hQKRd",
        "colab_type": "code",
        "colab": {}
      },
      "source": [
        ""
      ],
      "execution_count": null,
      "outputs": []
    }
  ]
}